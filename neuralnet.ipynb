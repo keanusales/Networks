{
 "cells": [
  {
   "attachments": {},
   "cell_type": "markdown",
   "metadata": {},
   "source": [
    "# Neural Network"
   ]
  },
  {
   "attachments": {},
   "cell_type": "markdown",
   "metadata": {},
   "source": [
    "### Imports"
   ]
  },
  {
   "cell_type": "code",
   "execution_count": null,
   "metadata": {},
   "outputs": [],
   "source": [
    "from os import getcwd\n",
    "from copy import deepcopy\n",
    "from random import randint\n",
    "from os.path import abspath, join\n",
    "from torch import nn, optim, flatten\n",
    "from torch import no_grad, save, load\n",
    "from matplotlib.pyplot import imshow\n",
    "from torchvision.transforms import ToTensor\n",
    "from torchvision.datasets import MNIST\n",
    "from torch.utils.data import Dataset, DataLoader"
   ]
  },
  {
   "attachments": {},
   "cell_type": "markdown",
   "metadata": {},
   "source": [
    "### Dataset"
   ]
  },
  {
   "cell_type": "code",
   "execution_count": null,
   "metadata": {},
   "outputs": [
    {
     "data": {
      "text/plain": [
       "(60000, 10000)"
      ]
     },
     "execution_count": null,
     "metadata": {},
     "output_type": "execute_result"
    }
   ],
   "source": [
    "transform = ToTensor()\n",
    "\n",
    "PATH = abspath(getcwd())\n",
    "traindata = MNIST(PATH, True, transform, download = True)\n",
    "testdata = MNIST(PATH, False, transform, download = True)\n",
    "\n",
    "len(traindata), len(testdata)"
   ]
  },
  {
   "attachments": {},
   "cell_type": "markdown",
   "metadata": {},
   "source": [
    "### Dataloaders"
   ]
  },
  {
   "cell_type": "code",
   "execution_count": null,
   "metadata": {},
   "outputs": [],
   "source": [
    "BATCH = 64\n",
    "trainloader = DataLoader(traindata, BATCH, True)\n",
    "testloader = DataLoader(testdata, BATCH, True)"
   ]
  },
  {
   "attachments": {},
   "cell_type": "markdown",
   "metadata": {},
   "source": [
    "### Convolutional Network"
   ]
  },
  {
   "cell_type": "code",
   "execution_count": null,
   "metadata": {},
   "outputs": [],
   "source": [
    "class ConvNetwork(nn.Module):\n",
    "  def __init__(self):\n",
    "    super().__init__()\n",
    "    self.convol = nn.Sequential(\n",
    "      nn.Conv2d(1, 16, (3, 3)),\n",
    "      nn.ReLU(),\n",
    "      nn.MaxPool2d(2, 2),\n",
    "      nn.Conv2d(16, 32, (3, 3)),\n",
    "      nn.ReLU(),\n",
    "      nn.MaxPool2d(2, 2)\n",
    "    )\n",
    "\n",
    "    self.linear = nn.Sequential(\n",
    "      nn.Linear(800, 256),\n",
    "      nn.ReLU(),\n",
    "      nn.Linear(256, 10)\n",
    "    )\n",
    "\n",
    "  def forward(self, x):\n",
    "    x = flatten(self.convol(x), 1)\n",
    "    return self.linear(x)"
   ]
  },
  {
   "cell_type": "code",
   "execution_count": null,
   "metadata": {},
   "outputs": [],
   "source": [
    "model = ConvNetwork().cpu()\n",
    "lossfunc = nn.CrossEntropyLoss()\n",
    "optimizer = optim.SGD(model.parameters(), 1e-3)"
   ]
  },
  {
   "attachments": {},
   "cell_type": "markdown",
   "metadata": {},
   "source": [
    "### Treinando a rede"
   ]
  },
  {
   "cell_type": "code",
   "execution_count": null,
   "metadata": {},
   "outputs": [],
   "source": [
    "def train(model: nn.Module, dataloader: DataLoader, lossfunc, optimizer: optim.Optimizer):\n",
    "  model.train()\n",
    "  comloss = 0.0\n",
    "  for img, label in dataloader:\n",
    "    img, label = img.cpu(), label.cpu()\n",
    "    optimizer.zero_grad()\n",
    "    pred = model(img)\n",
    "    loss = lossfunc(pred, label)\n",
    "    loss.backward()\n",
    "    optimizer.step()\n",
    "    comloss += loss.item()\n",
    "  return comloss / len(dataloader)\n",
    "\n",
    "@no_grad()\n",
    "def test(model: nn.Module, dataloader: DataLoader, lossfunc):\n",
    "  model.eval()\n",
    "  comloss = 0.0\n",
    "  for img, label in dataloader:\n",
    "    img, label = img.cpu(), label.cpu()\n",
    "    pred = model(img)\n",
    "    loss = lossfunc(pred, label)\n",
    "    comloss += loss.item()\n",
    "  return comloss / len(dataloader)"
   ]
  },
  {
   "cell_type": "code",
   "execution_count": null,
   "metadata": {},
   "outputs": [
    {
     "name": "stdout",
     "output_type": "stream",
     "text": [
      "Epoch: 1, Train Loss: 2.2899799690063576, Testloss: 2.273153271644738\n",
      "Epoch: 2, Train Loss: 2.2479276977368254, Testloss: 2.2124190816454066\n",
      "Epoch: 3, Train Loss: 2.135658033112727, Testloss: 2.0066881908732617\n",
      "Epoch: 4, Train Loss: 1.6831679575478853, Testloss: 1.2331386645128772\n",
      "Epoch: 5, Train Loss: 0.9179754890422068, Testloss: 0.6792732397462152\n",
      "Epoch: 6, Train Loss: 0.6032650905059599, Testloss: 0.5159413569672092\n",
      "Epoch: 7, Train Loss: 0.49177714732727773, Testloss: 0.4389034410950485\n",
      "Epoch: 8, Train Loss: 0.4359013321303101, Testloss: 0.39967906000507863\n",
      "Epoch: 9, Train Loss: 0.400214196554125, Testloss: 0.36747670316012804\n",
      "Epoch: 10, Train Loss: 0.3750906576162208, Testloss: 0.34782653828715066\n",
      "Epoch: 11, Train Loss: 0.35423839185982625, Testloss: 0.32810239845020756\n",
      "Epoch: 12, Train Loss: 0.3362085053216674, Testloss: 0.3109744630137067\n",
      "Epoch: 13, Train Loss: 0.32050244278236745, Testloss: 0.2997636875719022\n",
      "Epoch: 14, Train Loss: 0.3060609910533881, Testloss: 0.2807365822469353\n",
      "Epoch: 15, Train Loss: 0.2926343980072531, Testloss: 0.27164702568274396\n",
      "Epoch: 16, Train Loss: 0.2798833261643137, Testloss: 0.259281579618621\n",
      "Epoch: 17, Train Loss: 0.26839783527195327, Testloss: 0.25380826988227806\n",
      "Epoch: 18, Train Loss: 0.2572324807439913, Testloss: 0.23561459105865212\n",
      "Epoch: 19, Train Loss: 0.24657489678689412, Testloss: 0.22727616999749164\n",
      "Epoch: 20, Train Loss: 0.23665644056888532, Testloss: 0.21813237083375833\n",
      "Epoch: 21, Train Loss: 0.22730927927884212, Testloss: 0.21099654542412727\n",
      "Epoch: 22, Train Loss: 0.21860416210107586, Testloss: 0.2008716402349958\n",
      "Epoch: 23, Train Loss: 0.21042812775685463, Testloss: 0.1945828784043622\n",
      "Epoch: 24, Train Loss: 0.2027128046747845, Testloss: 0.18894819426498596\n",
      "Epoch: 25, Train Loss: 0.1954982954818112, Testloss: 0.1838329474495095\n",
      "Epoch: 26, Train Loss: 0.18904483440651823, Testloss: 0.17943261375140612\n",
      "Epoch: 27, Train Loss: 0.1824854594478602, Testloss: 0.16673358235579389\n",
      "Epoch: 28, Train Loss: 0.17640404324176343, Testloss: 0.16272065935620836\n",
      "Epoch: 29, Train Loss: 0.17072043597285172, Testloss: 0.15682401066752755\n",
      "Epoch: 30, Train Loss: 0.16578651038107714, Testloss: 0.15291376077350538\n",
      "Epoch: 31, Train Loss: 0.16062707148357305, Testloss: 0.14627145693465404\n",
      "Epoch: 32, Train Loss: 0.15601764176525415, Testloss: 0.14228806671965274\n",
      "Epoch: 33, Train Loss: 0.15189343823918275, Testloss: 0.13705835054824306\n",
      "Epoch: 34, Train Loss: 0.14774851522235666, Testloss: 0.1345954333212535\n",
      "Epoch: 35, Train Loss: 0.1436676551927445, Testloss: 0.13072236743607338\n",
      "Epoch: 36, Train Loss: 0.1398818351443547, Testloss: 0.1301458625680512\n",
      "Epoch: 37, Train Loss: 0.1363660612387825, Testloss: 0.12572229438858806\n",
      "Epoch: 38, Train Loss: 0.1333122064075522, Testloss: 0.12155531218666939\n",
      "Epoch: 39, Train Loss: 0.12988328012421346, Testloss: 0.11988410204174413\n",
      "Epoch: 40, Train Loss: 0.1270665768653091, Testloss: 0.11915808859738006\n",
      "Epoch: 41, Train Loss: 0.12400071057222926, Testloss: 0.11662621774775966\n",
      "Epoch: 42, Train Loss: 0.1215144504370021, Testloss: 0.1116403512490593\n",
      "Epoch: 43, Train Loss: 0.11877042315662034, Testloss: 0.10873458670914933\n",
      "Epoch: 44, Train Loss: 0.11617096033352398, Testloss: 0.10593430555550157\n",
      "Epoch: 45, Train Loss: 0.11383556398743791, Testloss: 0.10612490298641715\n",
      "Epoch: 46, Train Loss: 0.11155217199890154, Testloss: 0.1023696763144367\n",
      "Epoch: 47, Train Loss: 0.10963170498665144, Testloss: 0.10075328821779057\n",
      "Epoch: 48, Train Loss: 0.10728370016520179, Testloss: 0.1000162530393832\n",
      "Epoch: 49, Train Loss: 0.10562056143964722, Testloss: 0.09674823541004376\n",
      "Epoch: 50, Train Loss: 0.10340082060807804, Testloss: 0.09770341925797568\n",
      "Epoch: 51, Train Loss: 0.10176427517312644, Testloss: 0.0943130107335509\n",
      "Epoch: 52, Train Loss: 0.10004375288501255, Testloss: 0.09445172413044674\n",
      "Epoch: 53, Train Loss: 0.09810974146884832, Testloss: 0.09094425329974123\n",
      "Epoch: 54, Train Loss: 0.09658671159452117, Testloss: 0.09030710901044736\n",
      "Epoch: 55, Train Loss: 0.09496510777471544, Testloss: 0.08974666729759259\n",
      "Epoch: 56, Train Loss: 0.0933915435312701, Testloss: 0.08783091021298318\n",
      "Epoch: 57, Train Loss: 0.09204510980343292, Testloss: 0.08712310412791884\n",
      "Epoch: 58, Train Loss: 0.09044494028729416, Testloss: 0.08457733973694645\n",
      "Epoch: 59, Train Loss: 0.0891467455629585, Testloss: 0.0854063026346029\n",
      "Epoch: 60, Train Loss: 0.08814548376177166, Testloss: 0.08435087864566002\n"
     ]
    }
   ],
   "source": [
    "EPOCHS = 60\n",
    "for t in range(EPOCHS):\n",
    "  trainloss = train(model, trainloader, lossfunc, optimizer)\n",
    "  testloss = test(model, testloader, lossfunc)\n",
    "  if trainloss > testloss:\n",
    "    best_model_state = deepcopy(model.state_dict())\n",
    "  print(f\"Epoch: {t+1}, Train Loss: {trainloss}, Testloss: {testloss}\")"
   ]
  },
  {
   "attachments": {},
   "cell_type": "markdown",
   "metadata": {},
   "source": [
    "### Salvando os parâmetros"
   ]
  },
  {
   "cell_type": "code",
   "execution_count": null,
   "metadata": {},
   "outputs": [],
   "source": [
    "PARAM = abspath(join(PATH, \"ConvParam.pt\"))\n",
    "save(best_model_state, PARAM)"
   ]
  },
  {
   "attachments": {},
   "cell_type": "markdown",
   "metadata": {},
   "source": [
    "### Carregando os parâmetros"
   ]
  },
  {
   "cell_type": "code",
   "execution_count": null,
   "metadata": {},
   "outputs": [
    {
     "data": {
      "text/plain": [
       "<All keys matched successfully>"
      ]
     },
     "execution_count": null,
     "metadata": {},
     "output_type": "execute_result"
    }
   ],
   "source": [
    "PARAM = abspath(join(PATH, \"ConvParam.pt\"))\n",
    "model = ConvNetwork().cpu()\n",
    "model.load_state_dict(load(PARAM))"
   ]
  },
  {
   "cell_type": "markdown",
   "metadata": {},
   "source": [
    "### Vendo alguma imagem"
   ]
  },
  {
   "cell_type": "code",
   "execution_count": null,
   "metadata": {},
   "outputs": [],
   "source": [
    "@no_grad()\n",
    "def visualizar(model: nn.Module, data: Dataset):\n",
    "  idx = randint(0, len(data))\n",
    "  img, label = data[idx]\n",
    "  imshow(img.squeeze())\n",
    "\n",
    "  model.eval()\n",
    "  pre = model(img.unsqueeze(0)).numpy().flatten()\n",
    "  val, _ = max(enumerate(pre), key = lambda x: x[1])\n",
    "  return f\"predição: {val}, real: {label}\""
   ]
  },
  {
   "cell_type": "code",
   "execution_count": null,
   "metadata": {},
   "outputs": [
    {
     "data": {
      "text/plain": [
       "'predição: 4, real: 4'"
      ]
     },
     "execution_count": null,
     "metadata": {},
     "output_type": "execute_result"
    },
    {
     "data": {
      "image/png": "[encoded data removed]",
      "text/plain": [
       "<Figure size 640x480 with 1 Axes>"
      ]
     },
     "metadata": {},
     "output_type": "display_data"
    }
   ],
   "source": [
    "visualizar(model, testdata)"
   ]
  }
 ],
 "metadata": {
  "kernelspec": {
   "display_name": "Python 3",
   "language": "python",
   "name": "python3"
  },
  "language_info": {
   "codemirror_mode": {
    "name": "ipython",
    "version": 3
   },
   "file_extension": ".py",
   "mimetype": "text/x-python",
   "name": "python",
   "nbconvert_exporter": "python",
   "pygments_lexer": "ipython3",
   "version": "3.11.4"
  },
  "orig_nbformat": 4
 },
 "nbformat": 4,
 "nbformat_minor": 2
}
